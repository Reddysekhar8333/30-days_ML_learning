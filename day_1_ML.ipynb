{
  "nbformat": 4,
  "nbformat_minor": 0,
  "metadata": {
    "colab": {
      "provenance": [],
      "authorship_tag": "ABX9TyPQV+DSNmdgSuwLREE9luni",
      "include_colab_link": true
    },
    "kernelspec": {
      "name": "python3",
      "display_name": "Python 3"
    },
    "language_info": {
      "name": "python"
    }
  },
  "cells": [
    {
      "cell_type": "markdown",
      "metadata": {
        "id": "view-in-github",
        "colab_type": "text"
      },
      "source": [
        "<a href=\"https://colab.research.google.com/github/Reddysekhar8333/30-days_ML_learning/blob/main/day_1_ML.ipynb\" target=\"_parent\"><img src=\"https://colab.research.google.com/assets/colab-badge.svg\" alt=\"Open In Colab\"/></a>"
      ]
    },
    {
      "cell_type": "markdown",
      "source": [
        "#Day 1: Introduction to Machine Learning\n",
        "Goal: Understand the basics of ML, its types, and set up your Python environment."
      ],
      "metadata": {
        "id": "Zu5mHK8Rmm2_"
      }
    },
    {
      "cell_type": "markdown",
      "source": [
        "#1. What is Machine Learning?\n",
        "Definition:\n",
        "ML is a method where computers learn patterns from data to make decisions without explicit instructions.\n",
        "\n",
        "Analogy:\n",
        "\n",
        "* Traditional Programming: You write rules (e.g., \"If email contains 'win money', flag as spam\").\n",
        "\n",
        "* Machine Learning: You show the computer 1,000 spam/not-spam emails, and it learns the rules itself.\n",
        "\n",
        "Why ML?\n",
        "* Handles complex patterns (e.g., speech recognition).\n",
        "\n",
        "* Adapts to new data (e.g., new spam tactics).\n",
        "\n"
      ],
      "metadata": {
        "id": "dQZpmtSxm37d"
      }
    },
    {
      "cell_type": "markdown",
      "source": [
        "#2. Types of Machine Learning\n",
        "A. Supervised Learning (Teacher-Labeled Data)\n",
        "* Goal: Predict outcomes from labeled examples.\n",
        "\n",
        "* Examples:\n",
        "\n",
        "      Classification: Spam detection (output: \"spam\" or \"not spam\").\n",
        "      Regression: House price prediction (output: continuous number).\n",
        "\n",
        "B. Unsupervised Learning (No Labels)\n",
        "* Goal: Find hidden patterns in data.\n",
        "\n",
        "* Examples:\n",
        "\n",
        "      Clustering: Group customers by purchase behavior.\n",
        "\n",
        "      Dimensionality Reduction: Compress data (e.g., PCA).\n",
        "\n",
        "C. Reinforcement Learning (Learn by Trial/Error)\n",
        "* Goal: Maximize rewards (e.g., game-playing AI)."
      ],
      "metadata": {
        "id": "P6UYwUxHqBJQ"
      }
    },
    {
      "cell_type": "markdown",
      "source": [
        "#3. Key Terms\n",
        "\n",
        "* Features:\tInput variables (X)\n",
        "      \"Square footage\" of a house\n",
        "* Target:\tOutput to predict (y)\n",
        "      House price\n",
        "* Model:\tAlgorithm that learns X → y\n",
        "      Linear Regression\n"
      ],
      "metadata": {
        "id": "cYeEObOrrZAQ"
      }
    },
    {
      "cell_type": "markdown",
      "source": [
        "#4. Hands-On: Your First Python ML Code\n",
        "Task: Calculate the mean of a list (foundational for ML math)."
      ],
      "metadata": {
        "id": "FTBmQS2Ksvv1"
      }
    },
    {
      "cell_type": "code",
      "source": [
        "# Python function to calculate mean\n",
        "def calculate_mean(numbers):\n",
        "    if len(numbers) == 0:\n",
        "        return 0  # Handle empty list\n",
        "    return sum(numbers) / len(numbers)\n",
        "\n",
        "# Test\n",
        "print(calculate_mean([10, 20, 30]))"
      ],
      "metadata": {
        "colab": {
          "base_uri": "https://localhost:8080/"
        },
        "id": "xtJRJIX1muQY",
        "outputId": "7bb27a67-0a5f-4f6b-d335-8a510f0565fe"
      },
      "execution_count": 1,
      "outputs": [
        {
          "output_type": "stream",
          "name": "stdout",
          "text": [
            "20.0\n"
          ]
        }
      ]
    },
    {
      "cell_type": "markdown",
      "source": [
        "#5. Real-World Applications\n",
        "Research Task: Find 3 examples of ML in your daily life.\n",
        "\n",
        "* Example:\n",
        "\n",
        "      Netflix Recommendations: Uses your watch history to suggest shows.\n",
        "      Google Maps: Predicts traffic using location data.\n",
        "      Gmail Spam Filter: Classifies emails using text patterns."
      ],
      "metadata": {
        "id": "uVnVlqiJtnM2"
      }
    },
    {
      "cell_type": "markdown",
      "source": [
        "#6. Ethics in ML\n",
        "* Bias: If spam filter mostly flags emails from certain countries, it’s biased.\n",
        "\n",
        "* Question to Ponder: How can biased data harm decisions?"
      ],
      "metadata": {
        "id": "z7hCpfy6t5e8"
      }
    },
    {
      "cell_type": "markdown",
      "source": [
        "#**Day 1 Tasks**"
      ],
      "metadata": {
        "id": "NGKx1sqmuTHi"
      }
    },
    {
      "cell_type": "markdown",
      "source": [
        "1.Coding:\n",
        "* Improve the calculate_mean function to ignore non-numeric values."
      ],
      "metadata": {
        "id": "FW4BF0fVu41G"
      }
    },
    {
      "cell_type": "code",
      "source": [
        "def calculate_mean(numbers):\n",
        "    \"isinstance():used to check if an object is of a particular type (or types).\"\n",
        "    numeric_values = [x for x in numbers if isinstance(x, (int, float))]\n",
        "    if len(numeric_values) == 0:\n",
        "        return 0  # Handle case where no numeric values are present\n",
        "    return sum(numeric_values) / len(numeric_values) if numeric_values else 0\n",
        "\n",
        "# Test\n",
        "print(calculate_mean([10, 20, 'a', None, 30]))\n"
      ],
      "metadata": {
        "colab": {
          "base_uri": "https://localhost:8080/"
        },
        "id": "9xbh7B2tvBfT",
        "outputId": "0cfa77bc-0d2e-45b0-be06-a50b921376e6"
      },
      "execution_count": 6,
      "outputs": [
        {
          "output_type": "stream",
          "name": "stdout",
          "text": [
            "20.0\n"
          ]
        }
      ]
    },
    {
      "cell_type": "markdown",
      "source": [
        "2.Theory\n",
        "-----------\n",
        "*Supervised learning* : uses labeled data to train models to make predictions or classifications, where the correct output is known.\n",
        "* data: Labelled\n",
        "* goal: Predict outcomes\n",
        "* ex: Spam detection\n",
        "\n",
        "*Unsupervised learning* : works with unlabeled data to find hidden patterns or groupings without predefined outcomes.\n",
        "* data: Unlabeled\n",
        "* goal: Discover patterns\n",
        "* ex: Customer clustering\n"
      ],
      "metadata": {
        "id": "9eFz_4Qvw_Qm"
      }
    },
    {
      "cell_type": "markdown",
      "source": [
        "3.Research:\n",
        "----------\n",
        "    One major ethical concern in facial recognition is bias and discrimination\n",
        "    these systems often show higher error rates for people with darker skin tones,\n",
        "    leading to misidentification and potential harm, especially in law enforcement applications."
      ],
      "metadata": {
        "id": "bRwvi_FAxjzu"
      }
    },
    {
      "cell_type": "markdown",
      "source": [
        "#Reflection on ML Limitations\n",
        "* Ques: \"Why can’t ML replace doctors?\"\n",
        "* Ans :   ML lacks contextual understanding (e.g., empathy, ethical judgment)."
      ],
      "metadata": {
        "id": "3-0sMVpY2t3m"
      }
    },
    {
      "cell_type": "markdown",
      "source": [
        "#interview questions\n",
        "**basic**:\n",
        "\n",
        "1.\"What is Machine Learning? How is it different from traditional programming?\"\n",
        "\n",
        "2.\"Name the three main types of ML. Give a real-world example for each.\"\n",
        "\n",
        "3.\"What are features and target variables in ML?\"\n",
        "\n",
        "**intermediate**:\n",
        "\n",
        "4.\"Why can’t we use ML for every problem?\"\n",
        "\n",
        "5.\"How would you explain bias-variance tradeoff to a non-technical person?\"\n",
        "\n",
        "6.\"What’s the difference between classification and regression?\"\n",
        "\n",
        "**advance**:\n",
        "\n",
        "7.\"If your ML model performs well on training data but poorly on test data, what’s happening? How would you fix it?\"\n",
        "\n",
        "8.\"Why is data preprocessing important? Give examples of techniques.\"\n",
        "\n",
        "9.\"How would you validate a model’s performance for an imbalanced dataset?\"\n",
        "\n",
        "10.\"Explain linear regression to a 5-year-old.\"\n",
        "\n"
      ],
      "metadata": {
        "id": "qh2U-QBu6W-z"
      }
    },
    {
      "cell_type": "code",
      "source": [],
      "metadata": {
        "id": "nDgncfaWx0F4"
      },
      "execution_count": null,
      "outputs": []
    }
  ]
}