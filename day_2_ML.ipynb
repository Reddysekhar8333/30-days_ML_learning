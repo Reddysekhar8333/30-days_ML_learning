{
  "nbformat": 4,
  "nbformat_minor": 0,
  "metadata": {
    "colab": {
      "provenance": [],
      "authorship_tag": "ABX9TyP4M0C5ZnmcVg63q6ELJPI6",
      "include_colab_link": true
    },
    "kernelspec": {
      "name": "python3",
      "display_name": "Python 3"
    },
    "language_info": {
      "name": "python"
    }
  },
  "cells": [
    {
      "cell_type": "markdown",
      "metadata": {
        "id": "view-in-github",
        "colab_type": "text"
      },
      "source": [
        "<a href=\"https://colab.research.google.com/github/Reddysekhar8333/30-days_ML_learning/blob/main/day_2_ML.ipynb\" target=\"_parent\"><img src=\"https://colab.research.google.com/assets/colab-badge.svg\" alt=\"Open In Colab\"/></a>"
      ]
    },
    {
      "cell_type": "markdown",
      "source": [
        "##Day 2 of ML learning"
      ],
      "metadata": {
        "id": "EoXN7Ks2t9eD"
      }
    },
    {
      "cell_type": "markdown",
      "source": [
        "##1. Types of Machine Learning (Recap + Expansion)"
      ],
      "metadata": {
        "id": "LjYt1E_xum8B"
      }
    },
    {
      "cell_type": "markdown",
      "source": [
        "1.Supervised Learning:\n",
        "\n",
        "* The model learns from labeled data (input-output pairs).\n",
        "    * Examples: Classification (spam detection), Regression (house price prediction)."
      ],
      "metadata": {
        "id": "IERtOHXKu4KH"
      }
    },
    {
      "cell_type": "markdown",
      "source": [
        "* classification(spam detection)\n",
        "\n",
        "    * Import Required Libraries\n",
        "        * pandas → For data handling\n",
        "        * train_test_split → Splits your data into training and testing parts\n",
        "        * CountVectorizer → Converts text into numerical format (bag-of-words)\n",
        "        * MultinomialNB → A Naive Bayes classifier suitable for text\n",
        "        * accuracy_score, classification_report → Evaluate how good your model is"
      ],
      "metadata": {
        "id": "NULnQEErzrwz"
      }
    },
    {
      "cell_type": "code",
      "execution_count": null,
      "metadata": {
        "colab": {
          "base_uri": "https://localhost:8080/"
        },
        "id": "7GB3_JHXt7WD",
        "outputId": "12c113f8-edba-45b7-bf4e-314fe86bddd1"
      },
      "outputs": [
        {
          "output_type": "stream",
          "name": "stdout",
          "text": [
            "Accuracy: 0.3333333333333333\n",
            "\n",
            "Classification Report:\n",
            "               precision    recall  f1-score   support\n",
            "\n",
            "           0       0.33      1.00      0.50         1\n",
            "           1       0.00      0.00      0.00         2\n",
            "\n",
            "    accuracy                           0.33         3\n",
            "   macro avg       0.17      0.50      0.25         3\n",
            "weighted avg       0.11      0.33      0.17         3\n",
            "\n"
          ]
        },
        {
          "output_type": "stream",
          "name": "stderr",
          "text": [
            "/usr/local/lib/python3.11/dist-packages/sklearn/metrics/_classification.py:1565: UndefinedMetricWarning: Precision is ill-defined and being set to 0.0 in labels with no predicted samples. Use `zero_division` parameter to control this behavior.\n",
            "  _warn_prf(average, modifier, f\"{metric.capitalize()} is\", len(result))\n",
            "/usr/local/lib/python3.11/dist-packages/sklearn/metrics/_classification.py:1565: UndefinedMetricWarning: Precision is ill-defined and being set to 0.0 in labels with no predicted samples. Use `zero_division` parameter to control this behavior.\n",
            "  _warn_prf(average, modifier, f\"{metric.capitalize()} is\", len(result))\n",
            "/usr/local/lib/python3.11/dist-packages/sklearn/metrics/_classification.py:1565: UndefinedMetricWarning: Precision is ill-defined and being set to 0.0 in labels with no predicted samples. Use `zero_division` parameter to control this behavior.\n",
            "  _warn_prf(average, modifier, f\"{metric.capitalize()} is\", len(result))\n"
          ]
        }
      ],
      "source": [
        "import pandas as pd\n",
        "from sklearn.model_selection import train_test_split\n",
        "from sklearn.feature_extraction.text import CountVectorizer\n",
        "from sklearn.naive_bayes import MultinomialNB\n",
        "from sklearn.metrics import accuracy_score, classification_report\n",
        "#Create a Sample Dataset\n",
        "data = {\n",
        "    'text': [\n",
        "        'Win money now!!!',\n",
        "        'Call this number to claim your prize',\n",
        "        'Hey, how are you doing?',\n",
        "        'Let’s catch up soon',\n",
        "        'Free entry in a contest!',\n",
        "        'Are we meeting today?',\n",
        "        'You won a lottery!'\n",
        "    ],\n",
        "    'label': ['spam', 'spam', 'ham', 'ham', 'spam', 'ham', 'spam']#ham = (not spam)\n",
        "}\n",
        "df = pd.DataFrame(data)\n",
        "\n",
        "#Converts labels to 0 (ham) and 1 (spam) for the ML model to understand\n",
        "df['label'] = df['label'].map({'ham': 0, 'spam': 1})\n",
        "\n",
        "# Split into Training & Testing\n",
        "#70% of the data is used to train, 30% to test the model\n",
        "X_train, X_test, y_train, y_test = train_test_split(df['text'], df['label'], test_size=0.3, random_state=42)\n",
        "\n",
        "#Convert Text to Numbers (Bag of Words)\n",
        "vectorizer = CountVectorizer()#CountVectorizer() turns messages into word count vectors\n",
        "X_train_vec = vectorizer.fit_transform(X_train)#fit_transform() learns the vocabulary and transforms the training data\n",
        "X_test_vec = vectorizer.transform(X_test)#transform() uses the same vocab to convert test data\n",
        "\n",
        "#Train the Naive Bayes Classifier\n",
        "#Trains the model using word counts and their spam/ham labels\n",
        "model = MultinomialNB()\n",
        "model.fit(X_train_vec, y_train)\n",
        "\n",
        "#Make Predictions & Evaluate\n",
        "y_pred = model.predict(X_test_vec)\n",
        "print(\"Accuracy:\", accuracy_score(y_test, y_pred))\n",
        "print(\"\\nClassification Report:\\n\", classification_report(y_test, y_pred))\n"
      ]
    },
    {
      "cell_type": "markdown",
      "source": [
        "* Regression (house price prediction)\n",
        "\n",
        "    * Import Required Libraries\n",
        "        * pandas: to handle data in table format\n",
        "        * train_test_split: to split data into training & testing parts\n",
        "        * LinearRegression: ML model to predict prices\n",
        "        * mean_squared_error, r2_score: to check how good the model is"
      ],
      "metadata": {
        "id": "PTbsam4i5GL8"
      }
    },
    {
      "cell_type": "code",
      "source": [
        "import pandas as pd\n",
        "from sklearn.model_selection import train_test_split\n",
        "from sklearn.linear_model import LinearRegression\n",
        "from sklearn.metrics import mean_squared_error, r2_score\n",
        "# Create the Dataset\n",
        "data = {\n",
        "    'area': [1000, 1500, 1800, 2400, 3000],\n",
        "    'bedrooms': [2, 3, 4, 4, 5],\n",
        "    'age': [10, 15, 20, 8, 5],\n",
        "    'price': [200000, 250000, 300000, 400000, 500000]\n",
        "}\n",
        "df = pd.DataFrame(data)\n",
        "\n",
        "#Separate Features (X) and Target (y)\n",
        "X = df[['area', 'bedrooms', 'age']]  # X: the input data the model will learn from\n",
        "y = df['price']                      # y: the output we want to predict (house price)\n",
        "\n",
        "#Split into Train and Test\n",
        "#80% data used to train (X_train, y_train) & 20% data used to test (X_test, y_test)\n",
        "X_train, X_test, y_train, y_test = train_test_split(X, y, test_size=0.2, random_state=42)\n",
        "\n",
        "#Train the Linear Regression Model\n",
        "#Model learns the relationship between area, bedrooms, age → price\n",
        "model = LinearRegression()\n",
        "model.fit(X_train, y_train)\n",
        "\n",
        "#Make Predictions on Test Data\n",
        "y_pred = model.predict(X_test)\n",
        "\n",
        "# Evaluate the Model\n",
        "print(\"Mean Squared Error:\", mean_squared_error(y_test, y_pred))\n",
        "#Mean Squared Error (MSE): Lower is better\n",
        "print(\"R2 Score:\", r2_score(y_test, y_pred))\n",
        "#R² Score: Value between 0 and 1. Closer to 1 = better fit.\n",
        "\n",
        "# Predict new house price\n",
        "new_house = [[2000, 3, 10]]  # area=2000, 3 bedrooms, 10 years old\n",
        "predicted_price = model.predict(new_house)\n",
        "print(\"Predicted Price for new house:\", predicted_price[0])"
      ],
      "metadata": {
        "colab": {
          "base_uri": "https://localhost:8080/"
        },
        "id": "8D3FFKUu68H8",
        "outputId": "69a1b223-ddc4-484d-aa68-f052597e1b49"
      },
      "execution_count": null,
      "outputs": [
        {
          "output_type": "stream",
          "name": "stdout",
          "text": [
            "Mean Squared Error: 69444444.44443975\n",
            "R2 Score: nan\n",
            "Predicted Price for new house: 320833.33333333326\n"
          ]
        },
        {
          "output_type": "stream",
          "name": "stderr",
          "text": [
            "/usr/local/lib/python3.11/dist-packages/sklearn/metrics/_regression.py:1266: UndefinedMetricWarning: R^2 score is not well-defined with less than two samples.\n",
            "  warnings.warn(msg, UndefinedMetricWarning)\n",
            "/usr/local/lib/python3.11/dist-packages/sklearn/utils/validation.py:2739: UserWarning: X does not have valid feature names, but LinearRegression was fitted with feature names\n",
            "  warnings.warn(\n"
          ]
        }
      ]
    },
    {
      "cell_type": "markdown",
      "source": [
        "2.Unsupervised Learning:\n",
        "\n",
        "* The model finds patterns in unlabeled data.\n",
        "    * Examples: Clustering (customer segmentation), Dimensionality Reduction (PCA)."
      ],
      "metadata": {
        "id": "mXauVX7Ot8KJ"
      }
    },
    {
      "cell_type": "markdown",
      "source": [
        "* 🧠 Clustering: (Customer Segmentation) using K-Means\n",
        "\n",
        "    * We'll use two features: Annual Income and Spending Score to group customers.\n",
        "\n",
        "    * Import Required Libraries\n",
        "        * pandas: to handle data\n",
        "        * matplotlib: to plot visualizations\n",
        "        * KMeans: the algorithm for clustering\n",
        "        * StandardScaler: to scale data for better clustering\n",
        "\n"
      ],
      "metadata": {
        "id": "AuLpP92d-smA"
      }
    },
    {
      "cell_type": "code",
      "source": [
        "import pandas as pd\n",
        "import matplotlib.pyplot as plt\n",
        "from sklearn.cluster import KMeans\n",
        "from sklearn.preprocessing import StandardScaler\n",
        "# Create a Sample Dataset\n",
        "data = {\n",
        "    'CustomerID': [1, 2, 3, 4, 5, 6, 7, 8, 9, 10],\n",
        "    'Annual Income (k$)': [15, 16, 17, 18, 100, 110, 120, 130, 80, 85],\n",
        "    'Spending Score (1-100)': [39, 81, 6, 77, 40, 50, 48, 60, 20, 30]\n",
        "}\n",
        "df = pd.DataFrame(data)\n",
        "\n",
        "#Select Features\n",
        "#We only need these 2 features for clustering.\n",
        "#These are the basis for finding patterns in customer behavior.\n",
        "X = df[['Annual Income (k$)', 'Spending Score (1-100)']]\n",
        "\n",
        "#Standardize the Data\n",
        "scaler = StandardScaler()\n",
        "X_scaled = scaler.fit_transform(X)#Scaling ensures fair comparison (mean = 0, std = 1)\n",
        "\n",
        "#Apply KMeans Clustering\n",
        "kmeans = KMeans(n_clusters=3, random_state=42)\n",
        "df['Cluster'] = kmeans.fit_predict(X_scaled)#fit_predict() assigns a cluster number (0, 1, or 2) to each customer\n",
        "\n",
        "# Visualize the clusters\n",
        "plt.figure(figsize=(8, 6))\n",
        "for cluster in range(3):\n",
        "    cluster_data = df[df['Cluster'] == cluster]\n",
        "    plt.scatter(cluster_data['Annual Income (k$)'],\n",
        "                cluster_data['Spending Score (1-100)'],\n",
        "                label=f'Cluster {cluster}')\n",
        "\n",
        "plt.xlabel('Annual Income (k$)')\n",
        "plt.ylabel('Spending Score (1-100)')\n",
        "plt.title('Customer Segmentation (K-Means Clustering)')\n",
        "plt.legend()\n",
        "plt.grid(True)\n",
        "plt.show()"
      ],
      "metadata": {
        "colab": {
          "base_uri": "https://localhost:8080/",
          "height": 564
        },
        "id": "P57kEKXyBbzV",
        "outputId": "6182115d-428c-4354-d4fa-7ad81329dc27"
      },
      "execution_count": null,
      "outputs": [
        {
          "output_type": "display_data",
          "data": {
            "text/plain": [
              "<Figure size 800x600 with 1 Axes>"
            ],
            "image/png": "[encoded data removed]"
          },
          "metadata": {}
        }
      ]
    },
    {
      "cell_type": "markdown",
      "source": [
        "* Dimensionality Reduction using PCA (Principal Component Analysis) using Python and scikit-learn.\n",
        "* 🧠 Goal:\n",
        "    * Reduce high-dimensional data to 2 principal components for easier visualization and faster computation.\n",
        "    * Import Required Libraries\n",
        "        * pandas, numpy: data handling\n",
        "        * matplotlib: to plot the reduced data\n",
        "        * load_iris: loads a famous flower dataset\n",
        "        * PCA: the dimensionality reduction tool\n",
        "        * StandardScaler: scales data for better PCA results\n"
      ],
      "metadata": {
        "id": "KOMOI2fXFOSS"
      }
    },
    {
      "cell_type": "code",
      "source": [
        "import pandas as pd\n",
        "import numpy as np\n",
        "import matplotlib.pyplot as plt\n",
        "from sklearn.datasets import load_iris\n",
        "from sklearn.decomposition import PCA\n",
        "from sklearn.preprocessing import StandardScaler\n",
        "\n",
        "# Load the Iris dataset\n",
        "iris = load_iris()\n",
        "X = iris.data  # Features\n",
        "y = iris.target  # Labels (0, 1, 2)\n",
        "\n",
        "# Step 1: Standardize the data\n",
        "scaler = StandardScaler()\n",
        "X_scaled = scaler.fit_transform(X)\n",
        "#PCA is sensitive to scale.\n",
        "#Standardization sets mean=0 and std=1, which improves PCA performance.\n",
        "\n",
        "# Step 2: Apply PCA to reduce dimensions to 2\n",
        "pca = PCA(n_components=2)\n",
        "X_pca = pca.fit_transform(X_scaled)#X_pca now contains just 2 values per sample (PC1 & PC2)\n",
        "\n",
        "# Step 3: Plot the PCA results\n",
        "plt.figure(figsize=(8, 6))\n",
        "for target in np.unique(y):\n",
        "    plt.scatter(X_pca[y == target, 0], X_pca[y == target, 1], label=iris.target_names[target])\n",
        "\n",
        "plt.xlabel('Principal Component 1')\n",
        "plt.ylabel('Principal Component 2')\n",
        "plt.title('PCA on Iris Dataset')\n",
        "plt.legend()\n",
        "plt.grid(True)\n",
        "plt.show()\n"
      ],
      "metadata": {
        "colab": {
          "base_uri": "https://localhost:8080/",
          "height": 564
        },
        "id": "hfoY554jFny4",
        "outputId": "1f05a909-719b-4b43-be93-4607cd923ef3"
      },
      "execution_count": null,
      "outputs": [
        {
          "output_type": "display_data",
          "data": {
            "text/plain": [
              "<Figure size 800x600 with 1 Axes>"
            ],
            "image/png": "[encoded data removed]"
          },
          "metadata": {}
        }
      ]
    },
    {
      "cell_type": "markdown",
      "source": [
        "3.Reinforcement Learning:\n",
        "\n",
        "* The model learns by trial and error using rewards/penalties (e.g., game-playing AI)."
      ],
      "metadata": {
        "id": "0pU_yoGXHlu6"
      }
    },
    {
      "cell_type": "markdown",
      "source": [
        "#2. Key Terminology\n",
        "* Features (X): Input variables (e.g., age, salary for loan prediction).\n",
        "* Target (y): Output variable (e.g., \"loan approved: yes/no\").\n",
        "* Training Data: Data used to train the model.\n",
        "* Test Data: Data used to evaluate the model’s performance.\n",
        "* Overfitting: Model memorizes training data but fails on new data (complex model).\n",
        "* Underfitting: Model is too simple to capture patterns (high bias)."
      ],
      "metadata": {
        "id": "gMg_wuUDH9iU"
      }
    },
    {
      "cell_type": "markdown",
      "source": [
        "#3. Data Preprocessing (Critical Step!)\n",
        "* Handling Missing Values:\n",
        "    * Drop rows/columns or impute (fill) with mean/median.\n",
        "* Categorical Data Encoding:\n",
        "    * One-Hot Encoding: Convert categories to binary columns (e.g., \"Red\" = [1, 0, 0]).\n",
        "    * Label Encoding: Assign numbers to categories (e.g., \"Dog\" = 0, \"Cat\" = 1).\n",
        "* Feature Scaling:\n",
        "    * Standardization: Transform data to have mean=0, std=1.\n",
        "    * Normalization: Scale data to [0, 1] range."
      ],
      "metadata": {
        "id": "ilPOn-_vJ3w3"
      }
    },
    {
      "cell_type": "markdown",
      "source": [
        "1. Handling Missing Values"
      ],
      "metadata": {
        "id": "25j2F7v4K5jZ"
      }
    },
    {
      "cell_type": "code",
      "source": [
        "#Dropping Missing Values\n",
        "import pandas as pd\n",
        "# Create a sample DataFrame with missing values\n",
        "data = {'Age': [25, 30, None, 35, 40], 'Salary': [50000, None, 60000, None, 70000]}\n",
        "df = pd.DataFrame(data)\n",
        "# Drop rows with any missing values\n",
        "df_dropped = df.dropna()\n",
        "print(\"After dropping missing values:\\n\", df_dropped)\n",
        "\n",
        "\n",
        "#Imputing Missing Values\n",
        "from sklearn.impute import SimpleImputer\n",
        "# Impute with mean (for numerical data)\n",
        "imputer = SimpleImputer(strategy='mean')  # Also: 'median', 'most_frequent'\n",
        "df[['Age', 'Salary']] = imputer.fit_transform(df[['Age', 'Salary']])\n",
        "print(\"After imputation:\\n\", df)"
      ],
      "metadata": {
        "colab": {
          "base_uri": "https://localhost:8080/"
        },
        "id": "0QkNeGg7Lc4l",
        "outputId": "cd824883-2ff0-4223-8fbc-34758eece763"
      },
      "execution_count": null,
      "outputs": [
        {
          "output_type": "stream",
          "name": "stdout",
          "text": [
            "After dropping missing values:\n",
            "     Age   Salary\n",
            "0  25.0  50000.0\n",
            "4  40.0  70000.0\n",
            "After imputation:\n",
            "     Age   Salary\n",
            "0  25.0  50000.0\n",
            "1  30.0  60000.0\n",
            "2  32.5  60000.0\n",
            "3  35.0  60000.0\n",
            "4  40.0  70000.0\n"
          ]
        }
      ]
    },
    {
      "cell_type": "markdown",
      "source": [
        "2.Encoding Categorical Data"
      ],
      "metadata": {
        "id": "BVORnyurMZuc"
      }
    },
    {
      "cell_type": "code",
      "source": [
        "#Label Encoding (for ordinal categories)\n",
        "from sklearn.preprocessing import LabelEncoder\n",
        "# Sample data\n",
        "data = {'Color': ['Red', 'Blue', 'Green', 'Blue', 'Red']}\n",
        "df = pd.DataFrame(data)\n",
        "# Convert categories to integers (0, 1, 2, ...)\n",
        "encoder = LabelEncoder()\n",
        "df['Color_encoded'] = encoder.fit_transform(df['Color'])\n",
        "print(\"Label Encoded:\\n\", df)\n",
        "\n",
        "#One-Hot Encoding (for nominal categories)\n",
        "from sklearn.preprocessing import OneHotEncoder\n",
        "# Create one-hot encoded columns\n",
        "encoder = OneHotEncoder(sparse_output=False)\n",
        "encoded_data = encoder.fit_transform(df[['Color']])\n",
        "# Convert to DataFrame\n",
        "encoded_df = pd.DataFrame(encoded_data, columns=encoder.get_feature_names_out(['Color']))\n",
        "print(\"One-Hot Encoded:\\n\", encoded_df)\n",
        "\n"
      ],
      "metadata": {
        "colab": {
          "base_uri": "https://localhost:8080/"
        },
        "id": "ZSMMj81WMgnz",
        "outputId": "97476c20-cc9d-4020-c239-0f0ec3285658"
      },
      "execution_count": null,
      "outputs": [
        {
          "output_type": "stream",
          "name": "stdout",
          "text": [
            "Label Encoded:\n",
            "    Color  Color_encoded\n",
            "0    Red              2\n",
            "1   Blue              0\n",
            "2  Green              1\n",
            "3   Blue              0\n",
            "4    Red              2\n",
            "One-Hot Encoded:\n",
            "    Color_Blue  Color_Green  Color_Red\n",
            "0         0.0          0.0        1.0\n",
            "1         1.0          0.0        0.0\n",
            "2         0.0          1.0        0.0\n",
            "3         1.0          0.0        0.0\n",
            "4         0.0          0.0        1.0\n"
          ]
        }
      ]
    },
    {
      "cell_type": "markdown",
      "source": [
        "3. Feature Scaling"
      ],
      "metadata": {
        "id": "HagKZ4fUS6qy"
      }
    },
    {
      "cell_type": "code",
      "source": [
        "#Standardization (Mean=0, Std=1)\n",
        "from sklearn.preprocessing import StandardScaler\n",
        "# Sample data\n",
        "data = {'Age': [25, 30, 35, 40], 'Salary': [50000, 60000, 70000, 80000]}\n",
        "df = pd.DataFrame(data)\n",
        "# Standardize features\n",
        "scaler = StandardScaler()\n",
        "df_scaled = pd.DataFrame(scaler.fit_transform(df), columns=df.columns)\n",
        "print(\"Standardized Data:\\n\", df_scaled)\n",
        "\n",
        "\n",
        "#Normalization (Scale to [0, 1])\n",
        "from sklearn.preprocessing import MinMaxScaler\n",
        "scaler = MinMaxScaler()\n",
        "df_normalized = pd.DataFrame(scaler.fit_transform(df), columns=df.columns)\n",
        "print(\"Normalized Data:\\n\", df_normalized)"
      ],
      "metadata": {
        "colab": {
          "base_uri": "https://localhost:8080/"
        },
        "id": "zoUJ6HClT1RC",
        "outputId": "d13cf93a-d58e-4617-fe2a-423fafc9ae7d"
      },
      "execution_count": null,
      "outputs": [
        {
          "output_type": "stream",
          "name": "stdout",
          "text": [
            "Standardized Data:\n",
            "         Age    Salary\n",
            "0 -1.341641 -1.341641\n",
            "1 -0.447214 -0.447214\n",
            "2  0.447214  0.447214\n",
            "3  1.341641  1.341641\n",
            "Normalized Data:\n",
            "         Age    Salary\n",
            "0  0.000000  0.000000\n",
            "1  0.333333  0.333333\n",
            "2  0.666667  0.666667\n",
            "3  1.000000  1.000000\n"
          ]
        }
      ]
    },
    {
      "cell_type": "markdown",
      "source": [
        "4. Splitting Data into Train/Test Sets"
      ],
      "metadata": {
        "id": "cStiXnkxXjwt"
      }
    },
    {
      "cell_type": "code",
      "source": [
        "from sklearn.model_selection import train_test_split\n",
        "import pandas as pd\n",
        "# Sample DataFrame (from earlier preprocessing examples)\n",
        "data = {'Age': [25, 30, 35, 40], 'Salary': [50000, 60000, 70000, 80000]}\n",
        "df = pd.DataFrame(data)\n",
        "# Define features (X) and target (y) correctly\n",
        "X = df[['Age', 'Salary']]  # Features (columns that exist)\n",
        "y = df['Age']               # Target (using 'Age' as a placeholder)\n",
        "# Split data (80% train, 20% test)\n",
        "X_train, X_test, y_train, y_test = train_test_split( X, y, test_size=0.2, random_state=42)\n",
        "print(\"Train features shape:\", X_train.shape)\n",
        "print(\"Test features shape:\", X_test.shape)"
      ],
      "metadata": {
        "colab": {
          "base_uri": "https://localhost:8080/"
        },
        "id": "y5vtiqzMXlV_",
        "outputId": "e31c4cb3-80d8-466c-c799-85d05f10be5c"
      },
      "execution_count": null,
      "outputs": [
        {
          "output_type": "stream",
          "name": "stdout",
          "text": [
            "Train features shape: (3, 2)\n",
            "Test features shape: (1, 2)\n"
          ]
        }
      ]
    },
    {
      "cell_type": "markdown",
      "source": [
        "5. Pipeline (Combine Preprocessing Steps)"
      ],
      "metadata": {
        "id": "GZ7tO-CqaQBE"
      }
    },
    {
      "cell_type": "code",
      "source": [
        "import pandas as pd\n",
        "from sklearn.pipeline import Pipeline\n",
        "from sklearn.compose import ColumnTransformer\n",
        "from sklearn.impute import SimpleImputer\n",
        "from sklearn.preprocessing import StandardScaler, OneHotEncoder\n",
        "from sklearn.ensemble import RandomForestClassifier\n",
        "\n",
        "# Sample DataFrame with ALL needed columns\n",
        "data = {\n",
        "    'Age': [25, 30, None, 35, 40],          # Numerical (with missing values)\n",
        "    'Salary': [50000, None, 60000, None, 70000],  # Numerical\n",
        "    'Color': ['Red', 'Blue', 'Green', 'Blue', 'Red'],  # Categorical\n",
        "    'Purchased': [0, 1, 0, 1, 1]             # Target\n",
        "}\n",
        "df = pd.DataFrame(data)\n",
        "\n",
        "# Separate features (X) and target (y)\n",
        "X = df.drop('Purchased', axis=1)  # Features\n",
        "y = df['Purchased']               # Target\n",
        "\n",
        "# Define preprocessing steps\n",
        "numerical_features = ['Age', 'Salary']  # Columns that exist\n",
        "categorical_features = ['Color']        # Column that exists\n",
        "\n",
        "# Numerical transformer: Impute + Scale\n",
        "numerical_transformer = Pipeline(steps=[\n",
        "    ('imputer', SimpleImputer(strategy='mean')),\n",
        "    ('scaler', StandardScaler())\n",
        "])\n",
        "\n",
        "# Categorical transformer: Impute + OneHotEncode\n",
        "categorical_transformer = Pipeline(steps=[\n",
        "    ('imputer', SimpleImputer(strategy='most_frequent')),\n",
        "    ('onehot', OneHotEncoder())\n",
        "])\n",
        "\n",
        "# Combine transformers\n",
        "preprocessor = ColumnTransformer(\n",
        "    transformers=[\n",
        "        ('num', numerical_transformer, numerical_features),\n",
        "        ('cat', categorical_transformer, categorical_features)\n",
        "    ])\n",
        "\n",
        "# Full pipeline: Preprocess + Classifier\n",
        "pipeline = Pipeline(steps=[\n",
        "    ('preprocessor', preprocessor),\n",
        "    ('classifier', RandomForestClassifier())\n",
        "])\n",
        "\n",
        "# Fit the pipeline (no KeyError now!)\n",
        "pipeline.fit(X, y)\n",
        "print(\"Pipeline fitted successfully!\")"
      ],
      "metadata": {
        "colab": {
          "base_uri": "https://localhost:8080/"
        },
        "id": "IJuEp-4xaXSv",
        "outputId": "04a4f8e6-0459-45e7-9807-5401285c0af8"
      },
      "execution_count": null,
      "outputs": [
        {
          "output_type": "stream",
          "name": "stdout",
          "text": [
            "Pipeline fitted successfully!\n"
          ]
        }
      ]
    },
    {
      "cell_type": "markdown",
      "source": [
        "#4. Simple Algorithms to Start With\n",
        "* Linear Regression:\n",
        "    * Predicts continuous values (e.g., house prices) using a linear equation:\n",
        "        * y = b0 + b1*x1 + b2*x2 + ...\n",
        "* Logistic Regression (for classification):\n",
        "    * Predicts probabilities (0 to 1) using the sigmoid function.\n",
        "* k-Nearest Neighbors (kNN):\n",
        "    * Classifies data based on majority vote of 'k' nearest neighbors."
      ],
      "metadata": {
        "id": "RGH-pq_ibx4K"
      }
    },
    {
      "cell_type": "markdown",
      "source": [
        "#5. Model Evaluation Metrics\n",
        "* Regression:\n",
        "    * Mean Squared Error (MSE): Average of squared errors.\n",
        "    * R² Score: % of variance explained by the model (0 to 1).\n",
        "* Classification:\n",
        "    * Accuracy: % of correct predictions.\n",
        "    * Confusion Matrix: TP, TN, FP, FN (True/False Positives/Negatives).\n",
        "    * Precision/Recall: Precision = TP/(TP+FP), Recall = TP/(TP+FN)."
      ],
      "metadata": {
        "id": "58VbgcQQcV5r"
      }
    },
    {
      "cell_type": "markdown",
      "source": [
        "#6.Task: iris flower species (classification) using scikit-learn."
      ],
      "metadata": {
        "id": "Oj04u7u9dkbx"
      }
    },
    {
      "cell_type": "code",
      "source": [
        "import numpy as np\n",
        "import matplotlib.pyplot as plt\n",
        "from sklearn.datasets import load_iris\n",
        "from sklearn.linear_model import LogisticRegression\n",
        "from sklearn.model_selection import train_test_split\n",
        "from sklearn.metrics import accuracy_score, classification_report\n",
        "\n",
        "# Load data\n",
        "iris = load_iris()\n",
        "X = iris.data[:, [2, 3]]  # Petal length and petal width (for 2D plotting)\n",
        "y = iris.target\n",
        "target_names = iris.target_names\n",
        "\n",
        "# Split data\n",
        "X_train, X_test, y_train, y_test = train_test_split(X, y, test_size=0.3, random_state=42)\n",
        "\n",
        "# Train model\n",
        "model = LogisticRegression(max_iter=200)\n",
        "model.fit(X_train, y_train)\n",
        "\n",
        "# Predict and evaluate\n",
        "y_pred = model.predict(X_test)\n",
        "print(\"Accuracy:\", accuracy_score(y_test, y_pred))\n",
        "print(\"\\nClassification Report:\\n\", classification_report(y_test, y_pred, target_names=target_names))\n",
        "\n",
        "# Create meshgrid for plotting\n",
        "x_min, x_max = X[:, 0].min() - 0.5, X[:, 0].max() + 0.5\n",
        "y_min, y_max = X[:, 1].min() - 0.5, X[:, 1].max() + 0.5\n",
        "xx, yy = np.meshgrid(np.arange(x_min, x_max, 0.02),\n",
        "                     np.arange(y_min, y_max, 0.02))\n",
        "\n",
        "# Predict on meshgrid\n",
        "Z = model.predict(np.c_[xx.ravel(), yy.ravel()])\n",
        "Z = Z.reshape(xx.shape)\n",
        "\n",
        "# Plot decision boundary\n",
        "plt.figure(figsize=(8, 6))\n",
        "plt.contourf(xx, yy, Z, alpha=0.3, cmap=plt.cm.Set1)\n",
        "\n",
        "# Plot training points\n",
        "for i, color in zip(range(3), ['red', 'blue', 'green']):\n",
        "    idx = np.where(y == i)\n",
        "    plt.scatter(X[idx, 0], X[idx, 1], c=color, label=target_names[i], edgecolor='k', s=40)\n",
        "\n",
        "plt.xlabel('Petal Length (cm)')\n",
        "plt.ylabel('Petal Width (cm)')\n",
        "plt.title('Decision Boundary for Iris Classification')\n",
        "plt.legend()\n",
        "plt.grid(True)\n",
        "plt.show()\n"
      ],
      "metadata": {
        "colab": {
          "base_uri": "https://localhost:8080/",
          "height": 790
        },
        "id": "02DZX-VO8jj1",
        "outputId": "529e6f85-1a82-4aa9-9211-8e10d9192b89"
      },
      "execution_count": 2,
      "outputs": [
        {
          "output_type": "stream",
          "name": "stdout",
          "text": [
            "Accuracy: 1.0\n",
            "\n",
            "Classification Report:\n",
            "               precision    recall  f1-score   support\n",
            "\n",
            "      setosa       1.00      1.00      1.00        19\n",
            "  versicolor       1.00      1.00      1.00        13\n",
            "   virginica       1.00      1.00      1.00        13\n",
            "\n",
            "    accuracy                           1.00        45\n",
            "   macro avg       1.00      1.00      1.00        45\n",
            "weighted avg       1.00      1.00      1.00        45\n",
            "\n"
          ]
        },
        {
          "output_type": "display_data",
          "data": {
            "text/plain": [
              "<Figure size 800x600 with 1 Axes>"
            ],
            "image/png": "[encoded data removed]"
          },
          "metadata": {}
        }
      ]
    },
    {
      "cell_type": "markdown",
      "source": [
        "#7. Key Takeaways\n",
        "* Data preprocessing is crucial for model performance.\n",
        "* Start with simple algorithms (Linear/Logistic Regression, kNN).\n",
        "* Always evaluate models using appropriate metrics."
      ],
      "metadata": {
        "id": "ENwHvsdo9r_j"
      }
    },
    {
      "cell_type": "markdown",
      "source": [
        "#8.interview questions\n",
        "\n",
        "##1. Supervised vs. Unsupervised Learning\n",
        "* Q: What’s the difference between supervised and unsupervised learning? Give examples.\n",
        "\n",
        "##2. Overfitting vs. Underfitting\n",
        "* Q: Explain overfitting and underfitting. How can you prevent them?\n",
        "\n",
        "##3. Data Preprocessing\n",
        "* Q: How would you handle missing values in a dataset?\n",
        "* Q: Why is feature scaling important? Which algorithms require it?\n",
        "\n",
        "##4. Linear Regression\n",
        "* Q: How does Linear Regression work? What assumptions does it make?\n",
        "* Q: How do you interpret the coefficients in Linear Regression?\n",
        "\n",
        "##5. Logistic Regression\n",
        "* Q: Why is Logistic Regression used for classification if it’s called \"regression\"?\n",
        "* Q: What is the loss function used in Logistic Regression?\n",
        "\n",
        "##6. Evaluation Metrics\n",
        "* Q: When would you use Precision over Accuracy?\n",
        "* Q: What’s the difference between MSE and R² in regression?\n",
        "\n",
        "##7. k-Nearest Neighbors (kNN)\n",
        "Q: How does kNN work? How do you choose ‘k’?\n",
        "\n",
        "##8. Coding Question\n",
        "Q: How would you split data into train/test sets and train a Linear Regression model in Python?"
      ],
      "metadata": {
        "id": "ZvhMrp5v91mI"
      }
    },
    {
      "cell_type": "markdown",
      "source": [],
      "metadata": {
        "id": "cZVC1mlM_sWt"
      }
    }
  ]
}